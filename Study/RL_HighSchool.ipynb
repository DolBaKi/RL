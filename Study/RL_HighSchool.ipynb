{
 "cells": [
  {
   "cell_type": "code",
   "execution_count": 1,
   "metadata": {},
   "outputs": [],
   "source": [
    "import gymnasium as gym\n",
    "import numpy as np\n",
    "import random\n",
    "random.seed(a=None)"
   ]
  },
  {
   "cell_type": "code",
   "execution_count": 2,
   "metadata": {},
   "outputs": [],
   "source": [
    "class School(gym.Env):\n",
    "    def __init__(self):\n",
    "        # 환경과 관련된 변수 설정\n",
    "        self.state=0 # 0:수업, 1:야자, 2:집, 3:잘침, 4:못침\n",
    "    def reset(self):\n",
    "        # 초기값 설정\n",
    "        self.state=0\n",
    "        return self.state\n",
    "    def step(self,action):\n",
    "        # 환경 Refresh\n",
    "        done=False\n",
    "        reward=[-1,-2,1,-1,5,0]\n",
    "\n",
    "        if self.state==0:\n",
    "            if action==0:\n",
    "                p=random.randint(1,5)\n",
    "                if p==1:\n",
    "                    self.state=1\n",
    "            if action==1:\n",
    "                self.state=1\n",
    "            return self.state,reward[action],done,{}\n",
    "            \n",
    "        if self.state==1:\n",
    "            if action==2:\n",
    "                p=random.randint(1,10)\n",
    "                if p==1:\n",
    "                    self.state=2\n",
    "                else:\n",
    "                    self.state=0\n",
    "            if action==1:\n",
    "                self.state=2\n",
    "            return self.state,reward[action],done,{}\n",
    "            \n",
    "        if self.state==2:\n",
    "            if action==3:\n",
    "                self.state=2\n",
    "            if action==4:\n",
    "                self.state=3\n",
    "            if action==5:\n",
    "                self.state=4\n",
    "            return self.state,reward[action],done,{}"
   ]
  },
  {
   "cell_type": "code",
   "execution_count": 3,
   "metadata": {},
   "outputs": [],
   "source": [
    "class Policy:\n",
    "    def __init__(self):\n",
    "        self.action_reward=[100 for _ in range(6)]\n",
    "\n",
    "    def __call__(self,state):\n",
    "        # 정책설정\n",
    "        # action => 0:딴짓, 1:공부, 2:땡땡이, 3:유*브 쇼츠, 4:벼락치기, 5:포기 후 꿀잠\n",
    "        if state==0:\n",
    "            p=random.randint(1,50)\n",
    "            if p==1:\n",
    "                min1=min(self.action_reward[0:2])\n",
    "                if min1==self.action_reward[0]:\n",
    "                    action=0\n",
    "                else:\n",
    "                    action=1\n",
    "            else:\n",
    "                max1=max(self.action_reward[0:2])\n",
    "                if max1==self.action_reward[0]:\n",
    "                    action=0\n",
    "                else:\n",
    "                    action=1\n",
    "                \n",
    "        if state==1:\n",
    "            p=random.randint(1,50)\n",
    "            if p==1:\n",
    "                min1=min(self.action_reward[1:3])\n",
    "                if min1==self.action_reward[1]:\n",
    "                    action=1\n",
    "                else:\n",
    "                    action=2\n",
    "            else:\n",
    "                max1=max(self.action_reward[1:3])\n",
    "                if max1==self.action_reward[1]:\n",
    "                    action=1\n",
    "                else:\n",
    "                    action=2\n",
    "\n",
    "        if state==2:\n",
    "            p=random.randint(1,50)\n",
    "            if p==1:\n",
    "                min1=min(self.action_reward[3:6])\n",
    "                if min1==self.action_reward[3]:\n",
    "                    action=3\n",
    "                if min1==self.action_reward[4]:\n",
    "                    action=4\n",
    "                else:\n",
    "                    action=5\n",
    "            else:\n",
    "                max1=max(self.action_reward[3:6])\n",
    "                if max1==self.action_reward[3]:\n",
    "                    action=3\n",
    "                if max1==self.action_reward[4]:\n",
    "                    action=4\n",
    "                else:\n",
    "                    action=5\n",
    "\n",
    "        return action"
   ]
  },
  {
   "cell_type": "code",
   "execution_count": 6,
   "metadata": {},
   "outputs": [
    {
     "name": "stdout",
     "output_type": "stream",
     "text": [
      "state: 0\n",
      "action: 0\n",
      "reward: -1\n",
      "state: 0\n",
      "action: 0\n",
      "reward: -1\n",
      "state: 0\n",
      "action: 0\n",
      "reward: -1\n",
      "state: 0\n",
      "action: 0\n",
      "reward: -1\n",
      "state: 0\n",
      "action: 0\n",
      "reward: -1\n",
      "state: 0\n",
      "action: 0\n",
      "reward: -1\n",
      "state: 0\n",
      "action: 0\n",
      "reward: -1\n",
      "state: 1\n",
      "action: 0\n",
      "reward: -1\n",
      "state: 2\n",
      "action: 1\n",
      "reward: -2\n",
      "state: 3\n",
      "action: 4\n",
      "reward: 5\n",
      "total Reward:[0, -1, -2, -3, -4, -5, -6, -7, -8, -10, -5]\n"
     ]
    }
   ],
   "source": [
    "env=School() # 학교라는 환경\n",
    "state=env.reset() # 현재 상태\n",
    "agent=Policy() # 나\n",
    "\n",
    "total_reward=[0]\n",
    "\n",
    "for t in range(100):\n",
    "    action=agent(state)\n",
    "    state,reward,done,_=env.step(action)\n",
    "    print(f\"state: {state}\")\n",
    "    print(f\"action: {action}\")\n",
    "    print(f\"reward: {reward}\")\n",
    "    total_reward.append(reward+total_reward[len(total_reward)-1])\n",
    "    if state==3 or state==4:\n",
    "        break\n",
    "\n",
    "print(f\"total Reward:{total_reward}\")\n"
   ]
  },
  {
   "cell_type": "code",
   "execution_count": 26,
   "metadata": {},
   "outputs": [
    {
     "data": {
      "text/plain": [
       "[0, -2, -1, -3, -2, -4, -3, -5, -4, -6, -5, -7, -6, -7, -9, -8, -10, -9, -4]"
      ]
     },
     "execution_count": 26,
     "metadata": {},
     "output_type": "execute_result"
    }
   ],
   "source": [
    "total_reward"
   ]
  },
  {
   "cell_type": "code",
   "execution_count": null,
   "metadata": {},
   "outputs": [],
   "source": []
  }
 ],
 "metadata": {
  "kernelspec": {
   "display_name": "Python 3",
   "language": "python",
   "name": "python3"
  },
  "language_info": {
   "codemirror_mode": {
    "name": "ipython",
    "version": 3
   },
   "file_extension": ".py",
   "mimetype": "text/x-python",
   "name": "python",
   "nbconvert_exporter": "python",
   "pygments_lexer": "ipython3",
   "version": "3.12.2"
  }
 },
 "nbformat": 4,
 "nbformat_minor": 2
}
